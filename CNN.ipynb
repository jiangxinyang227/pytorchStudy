{
 "cells": [
  {
   "cell_type": "code",
   "execution_count": 1,
   "metadata": {},
   "outputs": [],
   "source": [
    "import time\n",
    "from torch import nn, optim\n",
    "import torch.nn.functional as F\n",
    "from torch.autograd import Variable\n",
    "from torch.utils.data import DataLoader\n",
    "from torchvision import transforms\n",
    "from torchvision import datasets\n",
    "import torch"
   ]
  },
  {
   "cell_type": "code",
   "execution_count": 2,
   "metadata": {},
   "outputs": [],
   "source": [
    "batch_size = 128\n",
    "learning_rate = 1e-2\n",
    "num_epochs = 20"
   ]
  },
  {
   "cell_type": "code",
   "execution_count": 3,
   "metadata": {},
   "outputs": [],
   "source": [
    "train_dataset = datasets.MNIST(\n",
    "    root='./data', train=True, transform=transforms.ToTensor(), download=True)\n",
    "\n",
    "test_dataset = datasets.MNIST(\n",
    "    root='./data', train=False, transform=transforms.ToTensor())\n",
    "\n",
    "train_loader = DataLoader(train_dataset, batch_size=batch_size, shuffle=True)\n",
    "test_loader = DataLoader(test_dataset, batch_size=batch_size, shuffle=False)"
   ]
  },
  {
   "cell_type": "code",
   "execution_count": 4,
   "metadata": {},
   "outputs": [],
   "source": [
    "def to_np(x):\n",
    "    return x.cpu().data.numpy()"
   ]
  },
  {
   "cell_type": "code",
   "execution_count": 5,
   "metadata": {},
   "outputs": [],
   "source": [
    "class CNN(nn.Module):\n",
    "    def __init__(self, in_dim, n_class):\n",
    "        super(CNN, self).__init__()\n",
    "        self.conv = nn.Sequential(nn.Conv2d(in_dim, 6, 3, stride=1, padding=1),\n",
    "                                 nn.ReLU(True),\n",
    "                                 nn.MaxPool2d(2, 2),\n",
    "                                 nn.Conv2d(6, 16, 5, stride=1, padding=0),\n",
    "                                 nn.ReLU(True),\n",
    "                                 nn.MaxPool2d(2, 2))\n",
    "        \n",
    "        self.fc = nn.Sequential(nn.Linear(400, 120),\n",
    "                               nn.Linear(120, 84),\n",
    "                               nn.Linear(84, n_class))\n",
    "        \n",
    "    def forward(self, x):\n",
    "        out = self.conv(x)\n",
    "        out = out.view(out.size(0), -1)\n",
    "        out = self.fc(out)\n",
    "        \n",
    "        return out\n"
   ]
  },
  {
   "cell_type": "code",
   "execution_count": 6,
   "metadata": {},
   "outputs": [
    {
     "name": "stderr",
     "output_type": "stream",
     "text": [
      "/home/jiangxinyang848/anaconda3/envs/jiang/lib/python3.5/site-packages/ipykernel_launcher.py:26: UserWarning: invalid index of a 0-dim tensor. This will be an error in PyTorch 0.5. Use tensor.item() to convert a 0-dim tensor to a Python number\n",
      "/home/jiangxinyang848/anaconda3/envs/jiang/lib/python3.5/site-packages/ipykernel_launcher.py:30: UserWarning: invalid index of a 0-dim tensor. This will be an error in PyTorch 0.5. Use tensor.item() to convert a 0-dim tensor to a Python number\n"
     ]
    },
    {
     "name": "stdout",
     "output_type": "stream",
     "text": [
      "[1/20] Loss: 2.300009, Acc: 0.119661\n",
      "Finish 1 epoch, Loss: 2.296699, Acc: 0.125350\n"
     ]
    },
    {
     "name": "stderr",
     "output_type": "stream",
     "text": [
      "/home/jiangxinyang848/anaconda3/envs/jiang/lib/python3.5/site-packages/ipykernel_launcher.py:52: UserWarning: volatile was removed and now has no effect. Use `with torch.no_grad():` instead.\n",
      "/home/jiangxinyang848/anaconda3/envs/jiang/lib/python3.5/site-packages/ipykernel_launcher.py:53: UserWarning: volatile was removed and now has no effect. Use `with torch.no_grad():` instead.\n",
      "/home/jiangxinyang848/anaconda3/envs/jiang/lib/python3.5/site-packages/ipykernel_launcher.py:59: UserWarning: invalid index of a 0-dim tensor. This will be an error in PyTorch 0.5. Use tensor.item() to convert a 0-dim tensor to a Python number\n",
      "/home/jiangxinyang848/anaconda3/envs/jiang/lib/python3.5/site-packages/ipykernel_launcher.py:62: UserWarning: invalid index of a 0-dim tensor. This will be an error in PyTorch 0.5. Use tensor.item() to convert a 0-dim tensor to a Python number\n"
     ]
    },
    {
     "name": "stdout",
     "output_type": "stream",
     "text": [
      "Test Loss: 2.286656, Acc: 0.177200\n",
      "[2/20] Loss: 2.272280, Acc: 0.285703\n",
      "Finish 2 epoch, Loss: 2.247938, Acc: 0.346800\n",
      "Test Loss: 2.124559, Acc: 0.595700\n",
      "[3/20] Loss: 1.313217, Acc: 0.718151\n",
      "Finish 3 epoch, Loss: 1.017280, Acc: 0.769267\n",
      "Test Loss: 0.417471, Acc: 0.883700\n",
      "[4/20] Loss: 0.366531, Acc: 0.895052\n",
      "Finish 4 epoch, Loss: 0.344128, Acc: 0.900617\n",
      "Test Loss: 0.275626, Acc: 0.917100\n",
      "[5/20] Loss: 0.265520, Acc: 0.921615\n",
      "Finish 5 epoch, Loss: 0.253980, Acc: 0.924867\n",
      "Test Loss: 0.210345, Acc: 0.936700\n",
      "[6/20] Loss: 0.213107, Acc: 0.936693\n",
      "Finish 6 epoch, Loss: 0.206868, Acc: 0.938667\n",
      "Test Loss: 0.183137, Acc: 0.941800\n",
      "[7/20] Loss: 0.179764, Acc: 0.946094\n",
      "Finish 7 epoch, Loss: 0.175522, Acc: 0.947867\n",
      "Test Loss: 0.150307, Acc: 0.952700\n",
      "[8/20] Loss: 0.155130, Acc: 0.953958\n",
      "Finish 8 epoch, Loss: 0.152707, Acc: 0.954350\n",
      "Test Loss: 0.128027, Acc: 0.960400\n",
      "[9/20] Loss: 0.137049, Acc: 0.958516\n",
      "Finish 9 epoch, Loss: 0.136400, Acc: 0.958783\n",
      "Test Loss: 0.113648, Acc: 0.964100\n",
      "[10/20] Loss: 0.127862, Acc: 0.962057\n",
      "Finish 10 epoch, Loss: 0.124731, Acc: 0.962783\n",
      "Test Loss: 0.111682, Acc: 0.964800\n",
      "[11/20] Loss: 0.114662, Acc: 0.965547\n",
      "Finish 11 epoch, Loss: 0.115431, Acc: 0.965633\n",
      "Test Loss: 0.098129, Acc: 0.970900\n",
      "[12/20] Loss: 0.106844, Acc: 0.967161\n",
      "Finish 12 epoch, Loss: 0.108463, Acc: 0.967117\n",
      "Test Loss: 0.090393, Acc: 0.972000\n",
      "[13/20] Loss: 0.101558, Acc: 0.968828\n",
      "Finish 13 epoch, Loss: 0.102178, Acc: 0.969067\n",
      "Test Loss: 0.094165, Acc: 0.972000\n",
      "[14/20] Loss: 0.097616, Acc: 0.970026\n",
      "Finish 14 epoch, Loss: 0.096995, Acc: 0.970250\n",
      "Test Loss: 0.084143, Acc: 0.973700\n",
      "[15/20] Loss: 0.094126, Acc: 0.971589\n",
      "Finish 15 epoch, Loss: 0.093282, Acc: 0.971667\n",
      "Test Loss: 0.079939, Acc: 0.976500\n",
      "[16/20] Loss: 0.087585, Acc: 0.973099\n",
      "Finish 16 epoch, Loss: 0.088853, Acc: 0.973100\n",
      "Test Loss: 0.078480, Acc: 0.976900\n",
      "[17/20] Loss: 0.085497, Acc: 0.973698\n",
      "Finish 17 epoch, Loss: 0.085504, Acc: 0.973950\n",
      "Test Loss: 0.074806, Acc: 0.979100\n",
      "[18/20] Loss: 0.083209, Acc: 0.975234\n",
      "Finish 18 epoch, Loss: 0.082510, Acc: 0.975417\n",
      "Test Loss: 0.067734, Acc: 0.978300\n",
      "[19/20] Loss: 0.079498, Acc: 0.976224\n",
      "Finish 19 epoch, Loss: 0.079572, Acc: 0.976000\n",
      "Test Loss: 0.068448, Acc: 0.979400\n",
      "[20/20] Loss: 0.076337, Acc: 0.977057\n",
      "Finish 20 epoch, Loss: 0.076710, Acc: 0.977217\n",
      "Test Loss: 0.064046, Acc: 0.980000\n"
     ]
    }
   ],
   "source": [
    "model = CNN(1, 10)\n",
    "use_gpu = torch.cuda.is_available()  # 判断是否有gpu\n",
    "if use_gpu:\n",
    "    model = model.cuda()\n",
    "    \n",
    "criterion = nn.CrossEntropyLoss()\n",
    "optimizer = optim.SGD(model.parameters(), lr=learning_rate)\n",
    "\n",
    "for epoch in range(num_epochs):\n",
    "    since = time.time()\n",
    "    running_loss = 0.0\n",
    "    running_acc = 0.0\n",
    "    for i, data in enumerate(train_loader, 1):\n",
    "        img, label = data\n",
    "        \n",
    "        if use_gpu:\n",
    "            img = Variable(img).cuda()\n",
    "            label = Variable(label).cuda()\n",
    "        else:\n",
    "            img = Variable(img)\n",
    "            label = Variable(label)\n",
    "            \n",
    "        out = model(img)\n",
    "        loss = criterion(out, label)  # 得到的是batch_size的均值\n",
    "       \n",
    "        running_loss += loss.data[0] * label.size(0)  # 因此乘以batch_size的值得到总得损失\n",
    "        _, pred = torch.max(out, 1)\n",
    "        num_correct = (pred == label).sum().float()  # 记得将整数转换成浮点数\n",
    "    \n",
    "        running_acc += num_correct.data[0]\n",
    "        \n",
    "        optimizer.zero_grad()\n",
    "        loss.backward()\n",
    "        optimizer.step()\n",
    "        \n",
    "        if i % 300 == 0:\n",
    "            \n",
    "            print('[{}/{}] Loss: {:.6f}, Acc: {:.6f}'.format(\n",
    "                epoch + 1, num_epochs, running_loss / (batch_size * i),\n",
    "                running_acc / (batch_size * i)))\n",
    "    print('Finish {} epoch, Loss: {:.6f}, Acc: {:.6f}'.format(\n",
    "        epoch + 1, running_loss / (len(train_dataset)), running_acc / (len(\n",
    "            train_dataset))))\n",
    "    \n",
    "    model.eval()\n",
    "    eval_loss = 0.\n",
    "    eval_acc = 0.\n",
    "    for data in test_loader:\n",
    "        img, label = data\n",
    "\n",
    "        if torch.cuda.is_available():\n",
    "            img = Variable(img, volatile=True).cuda()\n",
    "            label = Variable(label, volatile=True).cuda()\n",
    "        else:\n",
    "            img = Variable(img, volatile=True)\n",
    "            label = Variable(label, volatile=True)\n",
    "        out = model(img)\n",
    "        loss = criterion(out, label)\n",
    "        eval_loss += loss.data[0] * label.size(0)\n",
    "        _, pred = torch.max(out, 1)\n",
    "        num_correct = (pred == label).sum().float()\n",
    "        eval_acc += num_correct.data[0]\n",
    "    print('Test Loss: {:.6f}, Acc: {:.6f}'.format(eval_loss / (len(\n",
    "        test_dataset)), eval_acc / (len(test_dataset))))"
   ]
  }
 ],
 "metadata": {
  "kernelspec": {
   "display_name": "Python 3",
   "language": "python",
   "name": "python3"
  },
  "language_info": {
   "codemirror_mode": {
    "name": "ipython",
    "version": 3
   },
   "file_extension": ".py",
   "mimetype": "text/x-python",
   "name": "python",
   "nbconvert_exporter": "python",
   "pygments_lexer": "ipython3",
   "version": "3.5.6"
  }
 },
 "nbformat": 4,
 "nbformat_minor": 2
}
