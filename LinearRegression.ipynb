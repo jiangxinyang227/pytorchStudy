{
 "cells": [
  {
   "cell_type": "code",
   "execution_count": 70,
   "metadata": {},
   "outputs": [],
   "source": [
    "import torch \n",
    "from torch import nn, optim\n",
    "from torch.autograd import Variable\n",
    "import numpy as np\n",
    "import matplotlib.pyplot as plt"
   ]
  },
  {
   "cell_type": "code",
   "execution_count": 72,
   "metadata": {},
   "outputs": [
    {
     "data": {
      "text/plain": [
       "(15, 1)"
      ]
     },
     "execution_count": 72,
     "metadata": {},
     "output_type": "execute_result"
    }
   ],
   "source": [
    "x_train = np.array([[3.3], [4.4], [5.5], [6.71], [6.93], [4.168],\n",
    "                    [9.779], [6.182], [7.59], [2.167], [7.042],\n",
    "                    [10.791], [5.313], [7.997], [3.1]], dtype=np.float32)\n",
    "\n",
    "y_train = np.array([[1.7], [2.76], [2.09], [3.19], [1.694], [1.573],\n",
    "                    [3.366], [2.596], [2.53], [1.221], [2.827],\n",
    "                    [3.465], [1.65], [2.904], [1.3]], dtype=np.float32)"
   ]
  },
  {
   "cell_type": "code",
   "execution_count": 73,
   "metadata": {},
   "outputs": [],
   "source": [
    "x_train = torch.from_numpy(x_train)\n",
    "y_train = torch.from_numpy(y_train)"
   ]
  },
  {
   "cell_type": "code",
   "execution_count": 79,
   "metadata": {},
   "outputs": [
    {
     "name": "stdout",
     "output_type": "stream",
     "text": [
      "Epoch[20/1000], loss: 2.760367\n",
      "Epoch[40/1000], loss: 2.084788\n",
      "Epoch[60/1000], loss: 1.607239\n",
      "Epoch[80/1000], loss: 1.269647\n",
      "Epoch[100/1000], loss: 1.030970\n",
      "Epoch[120/1000], loss: 0.862199\n",
      "Epoch[140/1000], loss: 0.742835\n",
      "Epoch[160/1000], loss: 0.658389\n",
      "Epoch[180/1000], loss: 0.598621\n",
      "Epoch[200/1000], loss: 0.556295\n",
      "Epoch[220/1000], loss: 0.526295\n",
      "Epoch[240/1000], loss: 0.505006\n",
      "Epoch[260/1000], loss: 0.489875\n",
      "Epoch[280/1000], loss: 0.479096\n",
      "Epoch[300/1000], loss: 0.471392\n",
      "Epoch[320/1000], loss: 0.465862\n",
      "Epoch[340/1000], loss: 0.461868\n",
      "Epoch[360/1000], loss: 0.458960\n",
      "Epoch[380/1000], loss: 0.456820\n",
      "Epoch[400/1000], loss: 0.455222\n",
      "Epoch[420/1000], loss: 0.454008\n",
      "Epoch[440/1000], loss: 0.453065\n",
      "Epoch[460/1000], loss: 0.452313\n",
      "Epoch[480/1000], loss: 0.451697\n",
      "Epoch[500/1000], loss: 0.451177\n",
      "Epoch[520/1000], loss: 0.450725\n",
      "Epoch[540/1000], loss: 0.450321\n",
      "Epoch[560/1000], loss: 0.449951\n",
      "Epoch[580/1000], loss: 0.449605\n",
      "Epoch[600/1000], loss: 0.449276\n",
      "Epoch[620/1000], loss: 0.448960\n",
      "Epoch[640/1000], loss: 0.448652\n",
      "Epoch[660/1000], loss: 0.448351\n",
      "Epoch[680/1000], loss: 0.448054\n",
      "Epoch[700/1000], loss: 0.447760\n",
      "Epoch[720/1000], loss: 0.447469\n",
      "Epoch[740/1000], loss: 0.447179\n",
      "Epoch[760/1000], loss: 0.446891\n",
      "Epoch[780/1000], loss: 0.446603\n",
      "Epoch[800/1000], loss: 0.446317\n",
      "Epoch[820/1000], loss: 0.446031\n",
      "Epoch[840/1000], loss: 0.445746\n",
      "Epoch[860/1000], loss: 0.445462\n",
      "Epoch[880/1000], loss: 0.445177\n",
      "Epoch[900/1000], loss: 0.444893\n",
      "Epoch[920/1000], loss: 0.444610\n",
      "Epoch[940/1000], loss: 0.444327\n",
      "Epoch[960/1000], loss: 0.444044\n",
      "Epoch[980/1000], loss: 0.443761\n",
      "Epoch[1000/1000], loss: 0.443479\n"
     ]
    },
    {
     "name": "stderr",
     "output_type": "stream",
     "text": [
      "/home/jiangxinyang848/anaconda3/envs/jiang/lib/python3.5/site-packages/ipykernel_launcher.py:28: UserWarning: invalid index of a 0-dim tensor. This will be an error in PyTorch 0.5. Use tensor.item() to convert a 0-dim tensor to a Python number\n"
     ]
    },
    {
     "ename": "RuntimeError",
     "evalue": "Can't call numpy() on Variable that requires grad. Use var.detach().numpy() instead.",
     "output_type": "error",
     "traceback": [
      "\u001b[0;31m---------------------------------------------------------------------------\u001b[0m",
      "\u001b[0;31mRuntimeError\u001b[0m                              Traceback (most recent call last)",
      "\u001b[0;32m<ipython-input-79-ace653430183>\u001b[0m in \u001b[0;36m<module>\u001b[0;34m()\u001b[0m\n\u001b[1;32m     30\u001b[0m \u001b[0mmodel\u001b[0m\u001b[0;34m.\u001b[0m\u001b[0meval\u001b[0m\u001b[0;34m(\u001b[0m\u001b[0;34m)\u001b[0m  \u001b[0;31m# 声明是验证\u001b[0m\u001b[0;34m\u001b[0m\u001b[0m\n\u001b[1;32m     31\u001b[0m \u001b[0mpredict\u001b[0m \u001b[0;34m=\u001b[0m \u001b[0mmodel\u001b[0m\u001b[0;34m(\u001b[0m\u001b[0mVariable\u001b[0m\u001b[0;34m(\u001b[0m\u001b[0mx_train\u001b[0m\u001b[0;34m)\u001b[0m\u001b[0;34m)\u001b[0m  \u001b[0;31m# 通过__call__方法调用forward方法\u001b[0m\u001b[0;34m\u001b[0m\u001b[0m\n\u001b[0;32m---> 32\u001b[0;31m \u001b[0mpredcit\u001b[0m \u001b[0;34m=\u001b[0m \u001b[0mpredict\u001b[0m\u001b[0;34m.\u001b[0m\u001b[0mnumpy\u001b[0m\u001b[0;34m(\u001b[0m\u001b[0;34m)\u001b[0m\u001b[0;34m\u001b[0m\u001b[0m\n\u001b[0m\u001b[1;32m     33\u001b[0m \u001b[0mplt\u001b[0m\u001b[0;34m.\u001b[0m\u001b[0mplot\u001b[0m\u001b[0;34m(\u001b[0m\u001b[0mx_train\u001b[0m\u001b[0;34m.\u001b[0m\u001b[0mnumpy\u001b[0m\u001b[0;34m(\u001b[0m\u001b[0;34m)\u001b[0m\u001b[0;34m,\u001b[0m \u001b[0my_train\u001b[0m\u001b[0;34m.\u001b[0m\u001b[0mnumpy\u001b[0m\u001b[0;34m(\u001b[0m\u001b[0;34m)\u001b[0m\u001b[0;34m,\u001b[0m \u001b[0;34m\"ro\"\u001b[0m\u001b[0;34m,\u001b[0m \u001b[0mlabel\u001b[0m\u001b[0;34m=\u001b[0m\u001b[0;34m\"Original data\"\u001b[0m\u001b[0;34m)\u001b[0m\u001b[0;34m\u001b[0m\u001b[0m\n\u001b[1;32m     34\u001b[0m \u001b[0mplt\u001b[0m\u001b[0;34m.\u001b[0m\u001b[0mplot\u001b[0m\u001b[0;34m(\u001b[0m\u001b[0mx_train\u001b[0m\u001b[0;34m.\u001b[0m\u001b[0mnumpy\u001b[0m\u001b[0;34m(\u001b[0m\u001b[0;34m)\u001b[0m\u001b[0;34m,\u001b[0m \u001b[0mpredict\u001b[0m\u001b[0;34m,\u001b[0m \u001b[0mlabel\u001b[0m\u001b[0;34m=\u001b[0m\u001b[0;34m\"Fitting Line\"\u001b[0m\u001b[0;34m)\u001b[0m\u001b[0;34m\u001b[0m\u001b[0m\n",
      "\u001b[0;31mRuntimeError\u001b[0m: Can't call numpy() on Variable that requires grad. Use var.detach().numpy() instead."
     ]
    }
   ],
   "source": [
    "class LinearRegression(nn.Module):\n",
    "    def __init__(self):\n",
    "        super(LinearRegression, self).__init__()\n",
    "        self.linear = nn.Linear(1, 1)\n",
    "    \n",
    "    def forward(self, x):\n",
    "        out = self.linear(x)\n",
    "        return out\n",
    "\n",
    "model = LinearRegression()\n",
    "criterion = nn.MSELoss()\n",
    "optimizer = optim.SGD(model.parameters(), lr=1e-4)\n",
    "num_epochs = 1000\n",
    "\n",
    "for epoch in range(num_epochs):\n",
    "    inputs = Variable(x_train)\n",
    "    target = Variable(y_train)\n",
    "    \n",
    "    out = model(inputs)  # 通过__call__方法调用forward\n",
    "    loss = criterion(out, target)\n",
    "    \n",
    "    optimizer.zero_grad()\n",
    "    loss.backward()  # 反向传播\n",
    "    optimizer.step()  # 更新参数\n",
    "    \n",
    "    if (epoch + 1) % 20 == 0:\n",
    "        print('Epoch[{}/{}], loss: {:.6f}'\n",
    "              .format(epoch+1, num_epochs, loss.data[0]))\n",
    "    \n",
    "model.eval()  # 声明是验证\n",
    "predict = model(Variable(x_train))  # 通过__call__方法调用forward方法\n",
    "predcit = predict.data.numpy()\n",
    "plt.plot(x_train.numpy(), y_train.numpy(), \"ro\", label=\"Original data\")\n",
    "plt.plot(x_train.numpy(), predict, label=\"Fitting Line\")\n",
    "\n",
    "plt.legend()\n",
    "plt.show()\n",
    "\n",
    "torch.save(model.state_dict(), \"./linear.pth\")"
   ]
  },
  {
   "cell_type": "code",
   "execution_count": 80,
   "metadata": {},
   "outputs": [
    {
     "data": {
      "text/plain": [
       "tensor([[0.8446],\n",
       "        [1.3593],\n",
       "        [1.8741],\n",
       "        [2.4403],\n",
       "        [2.5432],\n",
       "        [1.2507],\n",
       "        [3.8764],\n",
       "        [2.1932],\n",
       "        [2.8521],\n",
       "        [0.3144],\n",
       "        [2.5956],\n",
       "        [4.3500],\n",
       "        [1.7865],\n",
       "        [3.0425],\n",
       "        [0.7510]], grad_fn=<ThAddmmBackward>)"
      ]
     },
     "execution_count": 80,
     "metadata": {},
     "output_type": "execute_result"
    }
   ],
   "source": [
    "predict"
   ]
  }
 ],
 "metadata": {
  "kernelspec": {
   "display_name": "Python 3",
   "language": "python",
   "name": "python3"
  },
  "language_info": {
   "codemirror_mode": {
    "name": "ipython",
    "version": 3
   },
   "file_extension": ".py",
   "mimetype": "text/x-python",
   "name": "python",
   "nbconvert_exporter": "python",
   "pygments_lexer": "ipython3",
   "version": "3.5.6"
  }
 },
 "nbformat": 4,
 "nbformat_minor": 2
}
